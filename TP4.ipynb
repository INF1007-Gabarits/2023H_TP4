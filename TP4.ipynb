{
 "cells": [
  {
   "attachments": {},
   "cell_type": "markdown",
   "metadata": {
    "datalore": {
     "hide_input_from_viewers": false,
     "hide_output_from_viewers": false,
     "node_id": "mZKYK7NRUx420974BHmDyS",
     "type": "MD"
    }
   },
   "source": [
    "# Précisions\n",
    "N'oubliez pas d'aller consulter les ressources sur les fonctions existentes de pandas, numpy et seaborn qui vous seront utiles lorsque vous réponderez aux questions qui suivent. Voici les sites web concernés à consulter pour les plus récentes versions de chacunes des librairies scientifiques:\n",
    "* Pandas: [documentation](https://pandas.pydata.org/docs/)\n",
    "* Numpy: [documentation](https://numpy.org/doc/1.21/)\n",
    "* Matplotlib: [quelques fonctions plot() pertinentes](https://matplotlib.org/3.5.0/plot_types/index.html)\n",
    "* Seaborn: [introduction à seaborn](https://seaborn.pydata.org/introduction.html)\n",
    "\n",
    "Tout au long du TP, vous pouvez cliquer sur les liens bleus qui vous mèneront vers des ressources encore plus spécifiques pour réaliser chacune des questions."
   ]
  },
  {
   "attachments": {},
   "cell_type": "markdown",
   "metadata": {
    "datalore": {
     "hide_input_from_viewers": false,
     "hide_output_from_viewers": false,
     "node_id": "QpJ36pwuxRMx96dHKsBF5E",
     "type": "MD"
    }
   },
   "source": [
    "# Partie 1: Exploration de la base de données"
   ]
  },
  {
   "cell_type": "code",
   "execution_count": null,
   "metadata": {
    "datalore": {
     "hide_input_from_viewers": false,
     "hide_output_from_viewers": false,
     "node_id": "4FmvnDFAfmidA94TEceW90",
     "type": "CODE"
    }
   },
   "outputs": [],
   "source": [
    "#Différents 'imports' nécessaires pour ce TP\n",
    "import os\n",
    "import numpy as np\n",
    "import pandas as pd \n",
    "import seaborn as sns\n",
    "import matplotlib.pyplot as plt\n",
    "import matplotlib\n",
    "matplotlib.rcParams['figure.figsize'] = [12,6] \n",
    "plt.style.use('fivethirtyeight')"
   ]
  },
  {
   "attachments": {},
   "cell_type": "markdown",
   "metadata": {
    "datalore": {
     "hide_input_from_viewers": false,
     "hide_output_from_viewers": false,
     "node_id": "0prHPQRPvAhQiqkVouBCjk",
     "type": "MD"
    }
   },
   "source": [
    "## 1.1 Visualisation des données"
   ]
  },
  {
   "attachments": {},
   "cell_type": "markdown",
   "metadata": {
    "datalore": {
     "hide_input_from_viewers": false,
     "hide_output_from_viewers": false,
     "node_id": "j8Ki40Cet8gdbdrmnQ5zmv",
     "type": "MD"
    }
   },
   "source": [
    "Nous allons travailler avec un fichier .csv (comma separated values), qui contient les 'Happiness score', soit les indicateurs de bonheur de l'année 2020 pour 153 pays du monde. Ces pays sont organisés sur les rangées du Dataframe 'df', une structure de données tabulaire de la librairie pandas. Des paramètres additionnels sont disponibles sur chaque colonnes, qui incluent notamment l'indicateur régional ('Region'), le support social ('Social Support'), le logarithme du produit intérieur brut par capita ('Logged GDP per capita') et plusieurs autres. Il faut en premier visualiser les données en notre possession. Pour ce faire, rouler le code qui suit. "
   ]
  },
  {
   "cell_type": "code",
   "execution_count": null,
   "metadata": {
    "datalore": {
     "hide_input_from_viewers": false,
     "hide_output_from_viewers": false,
     "node_id": "3fMuGVj1xCM51QPqWJ79MH",
     "type": "CODE"
    }
   },
   "outputs": [],
   "source": [
    "#Trouve le chemin relatif pour accéder aux données par la suite\n",
    "path = os.getcwd()\n",
    "\n",
    "df = pd.read_csv(os.path.join(path, '2020.csv'))\n",
    "\n",
    "#Précision mise à 2 chiffres après la virgule\n",
    "pd.set_option(\"display.precision\", 2)\n",
    "\n",
    "#df.head(x) permet d'afficher les x premières rangées de données, cette fonction vous sera utile pour la suite des choses\n",
    "#lors de la visualisation de la banque de données modifiée, utilisez la fonction display() au lieu de print() dans le \n",
    "#jupyter notebook pour un meilleur affichage\n",
    "display(df.head(15))\n",
    "# df.describe()\n",
    "\n",
    "#La commande ci-dessous vous donne de l'information sur la base de données (dataset), la quantité de valeurs et le type\n",
    "#de variable utilisée (dtypes, à droite complètement ex:float64 et object est un string)\n",
    "df.info()\n",
    "print('\\n')\n",
    "#Pour retrouver un élément de la case 'Country name'\n",
    "print(f\"Le premier élément de la colonne Country name est : {df['Country name'][0]}\")\n",
    "\n",
    "#Nous pouvons aussi retrouver le nombre de régions en utilisant la ligne de code suivante:\n",
    "df['Region'].value_counts()"
   ]
  },
  {
   "attachments": {},
   "cell_type": "markdown",
   "metadata": {
    "datalore": {
     "hide_input_from_viewers": false,
     "hide_output_from_viewers": false,
     "node_id": "Mj0u78vj0RG7fObndjxRdS",
     "type": "MD"
    }
   },
   "source": [
    "## Question 1.\n",
    "Pour cette question, vous devez retourner les valeurs maximales de 'Happiness score' pour chacune des 10 régions ('Region'). Ainsi la fonction ci-dessous doit retourner un dictionnaire avec ces scores maximaux en ordre décroissant et leurs pays associés en tant que clé. Par exemple: Australia:7.3, Israel:7.21, etc. N'oubliez pas que vous avez accès aux librairies de pandas et numpy qui possèdent plein d'outils pour automatiser un processus de ce genre!"
   ]
  },
  {
   "attachments": {},
   "cell_type": "markdown",
   "metadata": {
    "datalore": {
     "hide_input_from_viewers": false,
     "hide_output_from_viewers": false,
     "node_id": "gY1wqQQ5lDLGvdfWMPRpPN",
     "type": "MD"
    }
   },
   "source": [
    "### 1.1 \n",
    "Vous devez en premier lieu créer une fonction simple qui retourne une base de données de la région voulue, soit celle donnée en paramètre à la fonction CreateSubsetPerRegion(). Un exemple de ce qui doit être retourné est présenté ci-dessous:\n",
    "![](images/Capture1.PNG)"
   ]
  },
  {
   "cell_type": "code",
   "execution_count": null,
   "metadata": {
    "datalore": {
     "hide_input_from_viewers": false,
     "hide_output_from_viewers": false,
     "node_id": "Y4fxKK1Lo8PP8ZgiS0tedh",
     "type": "CODE"
    }
   },
   "outputs": [],
   "source": [
    "def CreateSubsetPerRegion(df, region):\n",
    "    #TODO Extraire les sous-données par région à l'aide du dataframe pandas ('subset' de données)\n",
    "    \n",
    "    ...\n",
    "    \n",
    "    return \n",
    "\n",
    "display(CreateSubsetPerRegion(df,'East Asia'))\n",
    "display(CreateSubsetPerRegion(df,'Central and Eastern Europe'))"
   ]
  },
  {
   "attachments": {},
   "cell_type": "markdown",
   "metadata": {
    "datalore": {
     "hide_input_from_viewers": false,
     "hide_output_from_viewers": false,
     "node_id": "RwPMoJhZSQx8i2dhFqcuxu",
     "type": "MD"
    }
   },
   "source": [
    "### 1.2\n",
    "Il faut maintenant retourner le dictionnaire ordonné en ordre décroissant du pays associé à la valeur maximale par région tel qu'indiqué dans la question 1. À nouveau, n'oubliez pas que vous avez accès à des librairies qui automatisent ces processus plus facilement. "
   ]
  },
  {
   "cell_type": "code",
   "execution_count": null,
   "metadata": {
    "datalore": {
     "hide_input_from_viewers": false,
     "hide_output_from_viewers": false,
     "node_id": "eNrvDpwIxGHhOI2yinI4nm",
     "type": "CODE"
    }
   },
   "outputs": [],
   "source": [
    "def ClassMaxScorePerRegion(df):\n",
    "    #TODO Trouver les régions pour en faire une liste (https://numpy.org/doc/stable/reference/generated/numpy.unique.html)\n",
    "    ...\n",
    "    #TODO Pour chacune des régions, trouves les valeurs maximales et le pays associé\n",
    "    ...\n",
    "    \n",
    "    #TODO Création d'un dictionnaire en ordre décroissant des valeurs de 'Happiness score'   \n",
    "    ...\n",
    "\n",
    "    return sorted_dict\n",
    "\n",
    "print(ClassMaxScorePerRegion(df))"
   ]
  },
  {
   "attachments": {},
   "cell_type": "markdown",
   "metadata": {
    "datalore": {
     "hide_input_from_viewers": false,
     "hide_output_from_viewers": false,
     "node_id": "MA79fiQY8WomISKhsKYPwo",
     "type": "MD"
    }
   },
   "source": [
    "## Question 2\n",
    "Nous allons maintenant rajouter les données de 2016 afin de les comparer à celles de 2020. Tout d'abord, utilisez ImportNewData() pour importer cette nouvelle base de données nommée 2016.csv. Avec les pays ayant obtenu les scores maximaux de 'Happiness score' par région, le but est de tracer leur évolution entre 2016 à 2020. L'évolution doit être représentée de la plus petite différence à la plus grande. Pour ce faire, vous allez en premier lieu trouver les différences avec la fonction FindDifferences() qui retourne un dictionnaire en ordre croissant de ces différences. Par la suite, vous tracerez ces différences par pays. Voici un exemple de graphique à barre voulu à réaliser avec la fonction PlotComparison(), ce ne sont pas nécessairement les pays voulus. Vous pouvez vous renseigner sur la fonction [plt.bar](https://matplotlib.org/stable/api/_as_gen/matplotlib.pyplot.bar.html) de matplotlib.\n",
    "![](images/Capture2.PNG)"
   ]
  },
  {
   "attachments": {},
   "cell_type": "markdown",
   "metadata": {
    "datalore": {
     "hide_input_from_viewers": false,
     "hide_output_from_viewers": false,
     "node_id": "EOZuCuedtSfr3fJdBUVBQJ",
     "type": "MD"
    }
   },
   "source": [
    "### 2.1\n",
    "Importation des données de l'année 2016"
   ]
  },
  {
   "cell_type": "code",
   "execution_count": null,
   "metadata": {
    "datalore": {
     "hide_input_from_viewers": false,
     "hide_output_from_viewers": false,
     "node_id": "u1ojODFgHtyoigqFnQVezr",
     "type": "CODE"
    }
   },
   "outputs": [],
   "source": [
    "def ImportNewData():\n",
    "    #TODO Import de la base de données pour 2016\n",
    "    #TODO Afficher les 10 premières rangées de la base de données de 2016\n",
    "    path = os.getcwd()\n",
    "\n",
    "    \n",
    "    return df_2016\n",
    "    \n",
    "df_2016 = ImportNewData()"
   ]
  },
  {
   "attachments": {},
   "cell_type": "markdown",
   "metadata": {
    "datalore": {
     "hide_input_from_viewers": false,
     "hide_output_from_viewers": false,
     "node_id": "rwqmtTkihsevBU9gYulgK4",
     "type": "MD"
    }
   },
   "source": [
    "### 2.2\n",
    "Implémentation des fonctions pour illustrer les différences pour les 10 pays concernés entre 2016 et 2020"
   ]
  },
  {
   "cell_type": "code",
   "execution_count": null,
   "metadata": {
    "datalore": {
     "hide_input_from_viewers": false,
     "hide_output_from_viewers": false,
     "node_id": "dej6d76k4ZBXXYSxwYYqs6",
     "type": "CODE"
    }
   },
   "outputs": [],
   "source": [
    "def FindDifferences(df_1,df_2):\n",
    "    #TODO Reprendre les valeurs obtenues précédemment du pays avec le score maximal par région\n",
    "    #TODO Retourner un dictionnaire des différences en ordre croissant\n",
    "   \n",
    "    return sorted_dict\n",
    "def PlotComparison(sorted_dict):\n",
    "    #TODO Faire un bar plot de ces différences\n",
    "    \n",
    "    \n",
    "    plt.show()\n",
    "    \n",
    "sorted_dict = FindDifferences(df, df_2016)\n",
    "PlotComparison(sorted_dict)"
   ]
  },
  {
   "attachments": {},
   "cell_type": "markdown",
   "metadata": {
    "datalore": {
     "hide_input_from_viewers": false,
     "hide_output_from_viewers": false,
     "node_id": "OR7Jl1b24ensjN8O502lFT",
     "type": "MD"
    }
   },
   "source": [
    "## Question 3\n",
    "Seaborn est une librairie qui permet de plus facilement tracer des graphiques complexes. Souvent, des [subplot](https://matplotlib.org/stable/gallery/subplots_axes_and_figures/subplots_demo.html) via matplotlib sont utilisés afin d'afficher plusieurs graphiques dans la même figure à des fins de comparaisons. Nous nous intéresserons maintenant à deux paramètres particuliers:\n",
    "1. Healthy life expectancy\n",
    "2. Happiness score\n",
    "\n",
    "Vous devez comparer pour les deux années 2016 et 2020 ces deux paramètres. Pour le premier paramètre, vous utiliserez [sns.histplot](https://seaborn.pydata.org/generated/seaborn.histplot.html) et pour le second paramètre, vous ferez usage des fonctionnalités de pandas pour le traçage avec [boxplot](https://pandas.pydata.org/docs/reference/api/pandas.DataFrame.boxplot.html). Voici un exemple d'affichage:\n",
    "![](images/Capture3.PNG)\n",
    "\n",
    "En cas de région et de pays qui ne correspondent pas, vous devez afficher:\n",
    "![](images/Capture4.PNG)"
   ]
  },
  {
   "cell_type": "code",
   "execution_count": null,
   "metadata": {
    "datalore": {
     "hide_input_from_viewers": false,
     "hide_output_from_viewers": false,
     "node_id": "nZEQJ2eAEMnQeMAkqp0FXC",
     "type": "CODE"
    }
   },
   "outputs": [],
   "source": [
    "def PlotDistributions(df_1, df_2):    \n",
    "    pass\n",
    "    #TODO Utiliser sns.displot et df.boxplot pour visualiser les deux paramètres demandés\n",
    "PlotDistributions(df_2016, df)"
   ]
  },
  {
   "attachments": {},
   "cell_type": "markdown",
   "metadata": {
    "datalore": {
     "hide_input_from_viewers": false,
     "hide_output_from_viewers": false,
     "node_id": "iavYShdNLLXC7GfktpsR09",
     "type": "MD"
    }
   },
   "source": [
    "## Question 4\n",
    "En se concentrant maintenant à nouveau sur les données de **2020**, nous allons essayer de trouver le paramètre le plus corrélé avec le score de bonheur 'Happiness score'. Nous allons prendre des paramètres spécifiques à analyser:\n",
    "1. Happiness score\n",
    "2. Logged GDP per capita\n",
    "3. Social support\n",
    "4. Healthy life expectancy\n",
    "5. Freedom to make life choices\n",
    "6. Generosity\n",
    "7. Perceptions of corruption\n",
    "\n",
    "Utilisez un [sns.heatmap](https://seaborn.pydata.org/generated/seaborn.heatmap.html) afin de visualiser ces [corrélations](https://pandas.pydata.org/docs/reference/api/pandas.DataFrame.corr.html). Votre heatmap de corrélation devrait ressembler à ce qui est présenté ci-dessous. Attention, ce qui est affiché n'est pas exactement ce que vous allez obtenir puisque ce ne sont pas les même données utilisées. L'exemple n'est qu'indicatif pour la ressemblance visuelle à obtenir.\n",
    "![](images/Capture5.PNG)\n",
    "\n",
    "Pour ce faire, vous allez écrire la fonction FindCorrelations(). En plus d'afficher le heatmap, cette fonction retourne la valeur maximale de corrélation avec le score de bonheur en considérant un paramètre différent de lui-même. En effet, comme vous pouvez le voir à la figure ci-haut le paramètre 'Happiness score' est toujours corrélé à 100% avec lui-même. Nous nous intéresserons donc plutôt à la deuxième valeur de corrélation la plus élevée et le paramètre qui lui est associé. L'affichage final ressemble à ceci et le coefficient de corrélation doit être arrondi au centième près:\n",
    "![](images/Capture6.PNG)"
   ]
  },
  {
   "cell_type": "code",
   "execution_count": null,
   "metadata": {
    "datalore": {
     "hide_input_from_viewers": false,
     "hide_output_from_viewers": false,
     "node_id": "Gjl0Pt57GA7tBWqm8REPKX",
     "type": "CODE"
    }
   },
   "outputs": [],
   "source": [
    "# Réajuste le fond d'affichage à blanc\n",
    "matplotlib.rcParams['figure.facecolor'] = 'w'\n",
    "def FindCorrelations(df):\n",
    "    #TODO Sélectionner les 7 paramètres à étudier\n",
    "    #TODO Faire et afficher un heatmap des facteurs de corrélation\n",
    "    \n",
    "    plt.show()\n",
    "    return chosen_max_cor, param\n",
    "    \n",
    "chosen_max_cor, param = FindCorrelations(df)\n",
    "#TODO Afficher la phrase indiquant le coefficient de corrélation le plus élevé avec le paramètre 'Happiness score'\n",
    "affichage = ''\n",
    "print(affichage)"
   ]
  },
  {
   "attachments": {},
   "cell_type": "markdown",
   "metadata": {
    "datalore": {
     "hide_input_from_viewers": false,
     "hide_output_from_viewers": false,
     "node_id": "YI4F7r2DGqB8yDa5QjI590",
     "type": "MD"
    }
   },
   "source": [
    "## Tests à rouler\n",
    "La cellule ci-dessous vous permet de tester certaines questions lorsqu'il s'agissait de retourner un print ou bien des dictionnaires en valeurs de retour. Les affichage de graphiques ainsi que les Dataframes retournés ne seront pas testés."
   ]
  },
  {
   "cell_type": "code",
   "execution_count": null,
   "metadata": {
    "datalore": {
     "hide_input_from_viewers": false,
     "hide_output_from_viewers": false,
     "node_id": "PRKZ1XKukmBU60LC45lzeY",
     "type": "CODE"
    }
   },
   "outputs": [],
   "source": [
    "import unittest\n",
    "import os\n",
    "import sys\n",
    "class TestQ1(unittest.TestCase):\n",
    "    result = {'Finland': 7.808700085, 'New Zealand': 7.2996001239999995, 'Israel': 7.128600121, 'Costa Rica': 7.121399879, 'Czech Republic': 6.9109001160000005, 'Taiwan': 6.45539999, 'Singapore': 6.377099991000001, 'Uzbekistan': 6.257599831, 'Mauritius': 6.101299762999999, 'Pakistan': 5.69329977}\n",
    "\n",
    "    def test1_real_value(self):\n",
    "        for key in self.result: \n",
    "            self.assertAlmostEqual(ClassMaxScorePerRegion(df)[key], self.result[key], delta=0.1)\n",
    "\n",
    "\n",
    "class TestQ2(unittest.TestCase):\n",
    "    def test2_find_differences(self):\n",
    "        sorted_val = {'Singapore': -0.3619000089999993, 'Israel': -0.1383998790000005, 'New Zealand': -0.03439987600000016, 'Costa Rica': 0.03439987899999952, 'Taiwan': 0.07639999000000053, 'Uzbekistan': 0.2705998310000002, 'Czech Republic': 0.31490011600000045, 'Finland': 0.39570008500000053, 'Mauritius': 0.4532997629999995, 'Pakistan': 0.5612997699999998}\n",
    "        for key in sorted_val: \n",
    "            self.assertAlmostEqual(FindDifferences(df, df_2016)[key], sorted_val[key], delta=0.1)\n",
    "\n",
    "class TestQ4(unittest.TestCase):\n",
    "     def test41_find_correlations(self):\n",
    "        wanted = 'Le paramètre avec un coefficient de corrélation le plus élévé avec Happiness score est Logged GDP per capita avec 0.78'\n",
    "        self.assertEqual(affichage, wanted)\n",
    "        \n",
    "res = unittest.main(argv=[''], verbosity=3, exit=False)\n",
    "# if we want our notebook to stop processing due to failures, we need a cell itself to fail\n",
    "assert len(res.result.failures) == 0"
   ]
  },
  {
   "attachments": {},
   "cell_type": "markdown",
   "metadata": {
    "datalore": {
     "hide_input_from_viewers": false,
     "hide_output_from_viewers": false,
     "node_id": "d7ehZ0ssNcaqFXdVYocwny",
     "type": "MD"
    }
   },
   "source": [
    "## Suite...\n",
    "Rendez-vous à la partie 3 que vous pouvez retrouver dans le fichier tests.py du github et dont les instructions sont dans le readme."
   ]
  }
 ],
 "metadata": {
  "datalore": {
   "base_environment": "default",
   "computation_mode": "JUPYTER",
   "package_manager": "pip",
   "packages": [],
   "version": 1
  },
  "kernelspec": {
   "display_name": "TP4",
   "language": "python",
   "name": "python3"
  },
  "language_info": {
   "codemirror_mode": {
    "name": "ipython",
    "version": 3
   },
   "file_extension": ".py",
   "mimetype": "text/x-python",
   "name": "python",
   "nbconvert_exporter": "python",
   "pygments_lexer": "ipython3",
   "version": "3.10.8 | packaged by conda-forge | (main, Nov 24 2022, 14:07:00) [MSC v.1916 64 bit (AMD64)]"
  },
  "vscode": {
   "interpreter": {
    "hash": "83149d582f47c84b25c41d34f15c6050d53b493457a28c4d926a46b756f30f37"
   }
  }
 },
 "nbformat": 4,
 "nbformat_minor": 4
}
